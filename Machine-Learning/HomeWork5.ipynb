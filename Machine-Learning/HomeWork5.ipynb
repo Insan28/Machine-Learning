{
 "cells": [
  {
   "cell_type": "markdown",
   "metadata": {},
   "source": [
    "# Glass Identification Data Set\n",
    "Attribute Information:\n",
    "\n",
    "Id number: 1 to 214\n",
    "RI: показатель преломления\n",
    "Na: Натрий\n",
    "Mg: Магний\n",
    "Al: Алюминий\n",
    "Si: Кремний\n",
    "K: Калий\n",
    "Ca: Кальций\n",
    "Ba: Барий\n",
    "Fe: Железо\",
    "Type of glass: 1.обработка окон с плавающей точкой 2.building_windows_non_float_processed 3.vehicle_windows_float_processed 4.vehicle_windows_non_float_processed (нет в таблице) 5.Контейнеры 6.Посуда 7.Фары"
   ]
  },
  {
   "cell_type": "code",
   "execution_count": 66,
   "metadata": {
    "collapsed": true
   },
   "outputs": [],
   "source": [
    "import numpy as np\n",
    "import matplotlib.pyplot as plt\n",
    "import pandas as pd\n",
    "%matplotlib inline"
   ]
  },
  {
   "cell_type": "code",
   "execution_count": 67,
   "metadata": {
    "collapsed": true
   },
   "outputs": [],
   "source": [
    "data = pd.read_csv('https://archive.ics.uci.edu/ml/machine-learning-databases/glass/glass.data', sep = ',', engine = 'python')"
   ]
  },
  {
   "cell_type": "code",
   "execution_count": 68,
   "metadata": {
    "collapsed": true
   },
   "outputs": [],
   "source": [
    "data.columns = ['ID','RI','Na','Mg','Al','Si','K','Ca','Ba','Fe','class']"
   ]
  },
  {
   "cell_type": "code",
   "execution_count": 69,
   "metadata": {
    "collapsed": true
   },
   "outputs": [],
   "source": [
    "data=data.drop(\"ID\",axis = 1)"
   ]
  },
  {
   "cell_type": "markdown",
   "metadata": {},
   "source": [
    "Задаем x и y"
   ]
  },
  {
   "cell_type": "code",
   "execution_count": 70,
   "metadata": {
    "collapsed": true
   },
   "outputs": [],
   "source": [
    "X = data.drop(('class'), axis = 1)\n",
    "y = data['class']\n",
    "\n",
    "from sklearn import preprocessing\n",
    "le = preprocessing.LabelEncoder()\n",
    "le.fit(y.unique())\n",
    "y_tr = le.transform(y)"
   ]
  },
  {
   "cell_type": "markdown",
   "metadata": {},
   "source": [
    "Разобьем выборку на тестовую и обучаемую"
   ]
  },
  {
   "cell_type": "code",
   "execution_count": 71,
   "metadata": {
    "collapsed": true
   },
   "outputs": [],
   "source": [
    "from sklearn.model_selection import train_test_split\n",
    "X_train, X_test, y_train, y_test = train_test_split(X, y, test_size = 0.33, random_state = 7)\n",
    "N_test, _ = X_test.shape"
   ]
  },
  {
   "cell_type": "markdown",
   "metadata": {},
   "source": [
    "# Random Forest"
   ]
  },
  {
   "cell_type": "code",
   "execution_count": 72,
   "metadata": {
    "collapsed": true
   },
   "outputs": [],
   "source": [
    "from sklearn.ensemble import RandomForestClassifier"
   ]
  },
  {
   "cell_type": "markdown",
   "metadata": {},
   "source": [
    "Объявим массивы ошибок"
   ]
  },
  {
   "cell_type": "code",
   "execution_count": 73,
   "metadata": {
    "collapsed": true
   },
   "outputs": [],
   "source": [
    "test_err_RF = []\n",
    "train_err_RF = []\n",
    "oob_err_RF = []"
   ]
  },
  {
   "cell_type": "code",
   "execution_count": 74,
   "metadata": {
    "collapsed": true
   },
   "outputs": [],
   "source": [
    "import warnings\n",
    "warnings.filterwarnings('ignore')\n",
    "\n",
    "n_estimators = np.arange(1, 100, 1)\n",
    "\n",
    "for count in n_estimators:\n",
    "    rf_model = RandomForestClassifier(n_estimators = count, warm_start = True, oob_score = True)\n",
    "    rf_model.fit(X_train, y_train)\n",
    "    \n",
    "    y_train_pred = rf_model.predict(X_train)\n",
    "    y_test_pred = rf_model.predict(X_test)\n",
    "    \n",
    "    train_err_RF.append(np.mean(y_train != y_train_pred))\n",
    "    test_err_RF.append(np.mean(y_test != y_test_pred))\n",
    "    \n",
    "    oob_err_RF.append(1 - rf_model.oob_score_)"
   ]
  },
  {
   "cell_type": "code",
   "execution_count": 75,
   "metadata": {},
   "outputs": [
    {
     "name": "stdout",
     "output_type": "stream",
     "text": [
      "0.0 0.225352112676\n"
     ]
    }
   ],
   "source": [
    "print(np.mean(y_train != y_train_pred), np.mean(y_test != y_test_pred))"
   ]
  },
  {
   "cell_type": "code",
   "execution_count": 76,
   "metadata": {},
   "outputs": [
    {
     "data": {
      "image/png": "iVBORw0KGgoAAAANSUhEUgAAAYUAAAEXCAYAAABCjVgAAAAABHNCSVQICAgIfAhkiAAAAAlwSFlz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\n",
      "text/plain": [
       "<matplotlib.figure.Figure at 0x2c26703ba20>"
      ]
     },
     "metadata": {},
     "output_type": "display_data"
    }
   ],
   "source": [
    "plt.plot(n_estimators, train_err_RF, 'b-o', label = 'train')\n",
    "plt.plot(n_estimators, test_err_RF, 'r-o', label = 'test')\n",
    "plt.plot(n_estimators, oob_err_RF, 'g-o', label = 'oob')\n",
    "plt.title('Error vs. n_estimators')\n",
    "plt.xlabel('n_estimators')\n",
    "plt.ylabel('error')\n",
    "plt.legend()\n",
    "pass"
   ]
  },
  {
   "cell_type": "markdown",
   "metadata": {},
   "source": [
    "Минимальные значения ошибок на обучающей и тестовой выборке"
   ]
  },
  {
   "cell_type": "code",
   "execution_count": 77,
   "metadata": {},
   "outputs": [
    {
     "name": "stdout",
     "output_type": "stream",
     "text": [
      "0.0 0.197183098592\n"
     ]
    }
   ],
   "source": [
    "min_train_err = np.min(train_err_RF)\n",
    "min_test_err_RF = np.min(test_err_RF)\n",
    "print(min_train_err, min_test_err_RF)"
   ]
  },
  {
   "cell_type": "code",
   "execution_count": null,
   "metadata": {
    "collapsed": true
   },
   "outputs": [],
   "source": []
  },
  {
   "cell_type": "code",
   "execution_count": 78,
   "metadata": {},
   "outputs": [
    {
     "name": "stdout",
     "output_type": "stream",
     "text": [
      "24\n"
     ]
    }
   ],
   "source": [
    "for i in range(len(test_err_RF)):\n",
    "    if((test_err_RF[i] == min_test_err_RF) and (train_err_RF[i] == min_train_err)):\n",
    "        n_estimator_opt = n_estimators[i]\n",
    "        break\n",
    "print(n_estimator_opt)"
   ]
  },
  {
   "cell_type": "markdown",
   "metadata": {},
   "source": [
    "Для достижения подобного результата достаточно 24 дерева"
   ]
  },
  {
   "cell_type": "markdown",
   "metadata": {},
   "source": [
    "# Extremely Random Trees"
   ]
  },
  {
   "cell_type": "code",
   "execution_count": 79,
   "metadata": {
    "collapsed": true
   },
   "outputs": [],
   "source": [
    "from sklearn.ensemble import ExtraTreesClassifier"
   ]
  },
  {
   "cell_type": "markdown",
   "metadata": {},
   "source": [
    "Объявляем массивы ошибок"
   ]
  },
  {
   "cell_type": "code",
   "execution_count": 80,
   "metadata": {
    "collapsed": true
   },
   "outputs": [],
   "source": [
    "test_err_ERT = []\n",
    "train_err_ERT = []\n",
    "oob_err_ERT = []"
   ]
  },
  {
   "cell_type": "code",
   "execution_count": 81,
   "metadata": {
    "collapsed": true
   },
   "outputs": [],
   "source": [
    "import warnings\n",
    "warnings.filterwarnings('ignore')\n",
    "\n",
    "for count in n_estimators:\n",
    "    ERT_model = ExtraTreesClassifier(n_estimators=count, bootstrap=True, oob_score = True)\n",
    "    ERT_model.fit(X_train, y_train)\n",
    "    \n",
    "    y_train_pred = ERT_model.predict(X_train)\n",
    "    y_test_pred = ERT_model.predict(X_test)\n",
    "    \n",
    "    train_err_ERT.append(np.mean(y_train != y_train_pred))\n",
    "    test_err_ERT.append(np.mean(y_test != y_test_pred))\n",
    "    \n",
    "    oob_err_ERT.append(1 - ERT_model.oob_score_)"
   ]
  },
  {
   "cell_type": "code",
   "execution_count": 82,
   "metadata": {},
   "outputs": [
    {
     "data": {
      "image/png": "iVBORw0KGgoAAAANSUhEUgAAAYUAAAEXCAYAAABCjVgAAAAABHNCSVQICAgIfAhkiAAAAAlwSFlz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\nTkSuQmCC\n",
      "text/plain": [
       "<matplotlib.figure.Figure at 0x2c26794beb8>"
      ]
     },
     "metadata": {},
     "output_type": "display_data"
    }
   ],
   "source": [
    "plt.plot(n_estimators, train_err_ERT, 'b-o', label = 'train')\n",
    "plt.plot(n_estimators, test_err_ERT, 'r-o', label = 'test')\n",
    "plt.plot(n_estimators, oob_err_ERT, 'g-o', label = 'oob')\n",
    "plt.title('Error vs. n_estimators')\n",
    "plt.xlabel('n_estimators')\n",
    "plt.ylabel('error')\n",
    "plt.legend()\n",
    "pass"
   ]
  },
  {
   "cell_type": "markdown",
   "metadata": {},
   "source": [
    "Минимальные значения ошибок на обучающей и тестовой выборке"
   ]
  },
  {
   "cell_type": "code",
   "execution_count": 83,
   "metadata": {},
   "outputs": [
    {
     "name": "stdout",
     "output_type": "stream",
     "text": [
      "0.0 0.169014084507\n"
     ]
    }
   ],
   "source": [
    "min_train_err = np.min(train_err_ERT)\n",
    "min_test_err_ERT = np.min(test_err_ERT)\n",
    "print(min_train_err, min_test_err_ERT)"
   ]
  },
  {
   "cell_type": "code",
   "execution_count": null,
   "metadata": {
    "collapsed": true
   },
   "outputs": [],
   "source": []
  },
  {
   "cell_type": "code",
   "execution_count": 84,
   "metadata": {},
   "outputs": [
    {
     "name": "stdout",
     "output_type": "stream",
     "text": [
      "23\n"
     ]
    }
   ],
   "source": [
    "for i in range(len(test_err_ERT)):\n",
    "    if((test_err_ERT[i] == min_test_err_ERT) and (train_err_ERT[i] == min_train_err)):\n",
    "        n_estimator_opt = n_estimators[i]\n",
    "        break\n",
    "print(n_estimator_opt)"
   ]
  },
  {
   "cell_type": "markdown",
   "metadata": {},
   "source": [
    "Для достижения оптимального значения достаточно 23 дерева"
   ]
  },
  {
   "cell_type": "markdown",
   "metadata": {},
   "source": [
    "# AdaBoost"
   ]
  },
  {
   "cell_type": "code",
   "execution_count": 85,
   "metadata": {
    "collapsed": true
   },
   "outputs": [],
   "source": [
    "from sklearn.ensemble import AdaBoostClassifier"
   ]
  },
  {
   "cell_type": "markdown",
   "metadata": {},
   "source": [
    "Объявляем массивы ошибок"
   ]
  },
  {
   "cell_type": "code",
   "execution_count": 86,
   "metadata": {
    "collapsed": true
   },
   "outputs": [],
   "source": [
    "test_err_AB = []\n",
    "train_err_AB = []\n",
    "oob_err_AB = []"
   ]
  },
  {
   "cell_type": "code",
   "execution_count": 87,
   "metadata": {
    "collapsed": true
   },
   "outputs": [],
   "source": [
    "import warnings\n",
    "warnings.filterwarnings('ignore')\n",
    "\n",
    "for count in n_estimators:\n",
    "    AB_model = AdaBoostClassifier(n_estimators = count)\n",
    "    AB_model.fit(X_train, y_train)\n",
    "    \n",
    "    y_train_pred = AB_model.predict(X_train)\n",
    "    y_test_pred = AB_model.predict(X_test)\n",
    "    \n",
    "    train_err_AB.append(np.mean(y_train != y_train_pred))\n",
    "    test_err_AB.append(np.mean(y_test != y_test_pred))"
   ]
  },
  {
   "cell_type": "code",
   "execution_count": 88,
   "metadata": {},
   "outputs": [
    {
     "data": {
      "image/png": "iVBORw0KGgoAAAANSUhEUgAAAZIAAAEXCAYAAACH/8KRAAAABHNCSVQICAgIfAhkiAAAAAlwSFlz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\nAAAASUVORK5CYII=\n",
      "text/plain": [
       "<matplotlib.figure.Figure at 0x2c2690ae048>"
      ]
     },
     "metadata": {},
     "output_type": "display_data"
    }
   ],
   "source": [
    "plt.plot(n_estimators, train_err_AB, 'b-o', label = 'train')\n",
    "plt.plot(n_estimators, test_err_AB, 'r-o', label = 'test')\n",
    "plt.title('Error vs. n_estimators')\n",
    "plt.xlabel('n_estimators')\n",
    "plt.ylabel('error')\n",
    "plt.legend()\n",
    "pass"
   ]
  },
  {
   "cell_type": "markdown",
   "metadata": {},
   "source": [
    "Минимальные значения ошибок на обучающей и тестовой выборке"
   ]
  },
  {
   "cell_type": "code",
   "execution_count": 89,
   "metadata": {},
   "outputs": [
    {
     "name": "stdout",
     "output_type": "stream",
     "text": [
      "0.457746478873 0.521126760563\n"
     ]
    }
   ],
   "source": [
    "min_train_err = np.min(train_err_AB)\n",
    "min_test_err_AB = np.min(test_err_AB)\n",
    "print(min_train_err, min_test_err_AB)"
   ]
  },
  {
   "cell_type": "code",
   "execution_count": 90,
   "metadata": {},
   "outputs": [
    {
     "name": "stdout",
     "output_type": "stream",
     "text": [
      "14\n"
     ]
    }
   ],
   "source": [
    "for i in range(len(test_err_AB)):\n",
    "    if((test_err_AB[i] == min_test_err_AB) and (train_err_AB[i] == min_train_err)):\n",
    "        n_estimator_opt = n_estimators[i]\n",
    "        break\n",
    "print(n_estimator_opt)"
   ]
  },
  {
   "cell_type": "markdown",
   "metadata": {},
   "source": [
    "# Gradient Boosted Trees"
   ]
  },
  {
   "cell_type": "code",
   "execution_count": 91,
   "metadata": {
    "collapsed": true
   },
   "outputs": [],
   "source": [
    "from sklearn.ensemble import GradientBoostingClassifier"
   ]
  },
  {
   "cell_type": "markdown",
   "metadata": {},
   "source": [
    "Объявляем массивы ошибок"
   ]
  },
  {
   "cell_type": "code",
   "execution_count": 92,
   "metadata": {
    "collapsed": true
   },
   "outputs": [],
   "source": [
    "test_err_GBT = []\n",
    "train_err_GBT = []\n",
    "oob_err_GBT = []"
   ]
  },
  {
   "cell_type": "code",
   "execution_count": 93,
   "metadata": {
    "collapsed": true
   },
   "outputs": [],
   "source": [
    "for count in n_estimators:\n",
    "    GBT_model = GradientBoostingClassifier(n_estimators=count)\n",
    "    GBT_model.fit(X_train, y_train)\n",
    "    \n",
    "    y_train_pred = GBT_model.predict(X_train)\n",
    "    y_test_pred = GBT_model.predict(X_test)\n",
    "    \n",
    "    train_err_GBT.append(np.mean(y_train != y_train_pred))\n",
    "    test_err_GBT.append(np.mean(y_test != y_test_pred))"
   ]
  },
  {
   "cell_type": "code",
   "execution_count": 94,
   "metadata": {},
   "outputs": [
    {
     "data": {
      "image/png": "iVBORw0KGgoAAAANSUhEUgAAAYsAAAEXCAYAAABcRGizAAAABHNCSVQICAgIfAhkiAAAAAlwSFlz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\nRlpMWRiGYRhp+f/ohzK3OeqInAAAAABJRU5ErkJggg==\n",
      "text/plain": [
       "<matplotlib.figure.Figure at 0x2c267f957b8>"
      ]
     },
     "metadata": {},
     "output_type": "display_data"
    }
   ],
   "source": [
    "plt.plot(n_estimators, train_err_GBT, 'b-o', label = 'train')\n",
    "plt.plot(n_estimators, test_err_GBT, 'r-o', label = 'test')\n",
    "plt.title('Error vs. n_estimators')\n",
    "plt.xlabel('n_estimators')\n",
    "plt.ylabel('error')\n",
    "plt.legend()\n",
    "pass"
   ]
  },
  {
   "cell_type": "markdown",
   "metadata": {},
   "source": [
    "Минимальные значения ошибок на обучающей и тестовой выборке"
   ]
  },
  {
   "cell_type": "code",
   "execution_count": 95,
   "metadata": {},
   "outputs": [
    {
     "name": "stdout",
     "output_type": "stream",
     "text": [
      "0.0 0.211267605634\n"
     ]
    }
   ],
   "source": [
    "min_train_err = np.min(train_err_GBT)\n",
    "min_test_err_GBT = np.min(test_err_GBT)\n",
    "print(min_train_err, min_test_err_GBT)"
   ]
  },
  {
   "cell_type": "code",
   "execution_count": 96,
   "metadata": {},
   "outputs": [
    {
     "name": "stdout",
     "output_type": "stream",
     "text": [
      "24\n"
     ]
    }
   ],
   "source": [
    "for i in range(len(test_err_GBT)):\n",
    "    if((test_err_GBT[i] == min_test_err_GBT) and (train_err_GBT[i] == min_train_err)):\n",
    "        n_estimator_opt = n_estimators[i]\n",
    "        break\n",
    "print(n_estimator_opt)"
   ]
  },
  {
   "cell_type": "markdown",
   "metadata": {},
   "source": [
    "Сравним графики ошибки на тестовой выборке"
   ]
  },
  {
   "cell_type": "code",
   "execution_count": 97,
   "metadata": {},
   "outputs": [
    {
     "data": {
      "image/png": "iVBORw0KGgoAAAANSUhEUgAAAYUAAAEWCAYAAACJ0YulAAAABHNCSVQICAgIfAhkiAAAAAlwSFlz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\n",
      "text/plain": [
       "<matplotlib.figure.Figure at 0x2c267f29390>"
      ]
     },
     "metadata": {},
     "output_type": "display_data"
    }
   ],
   "source": [
    "plt.plot(n_estimators, test_err_RF, 'r-o', label = 'RF')\n",
    "plt.plot(n_estimators, test_err_ERT, 'b-o', label = 'ERT')\n",
    "plt.plot(n_estimators, test_err_AB, 'g-o', label = 'AB')\n",
    "plt.plot(n_estimators, test_err_GBT, 'y-o', label = 'GBT')\n",
    "plt.title('Error vs. Count of trees for test')\n",
    "plt.xlabel('Count of trees')\n",
    "plt.ylabel('Error')\n",
    "plt.legend()\n",
    "pass"
   ]
  },
  {
   "cell_type": "code",
   "execution_count": 98,
   "metadata": {},
   "outputs": [
    {
     "name": "stdout",
     "output_type": "stream",
     "text": [
      "0.197183098592 0.169014084507 0.521126760563 0.211267605634\n"
     ]
    }
   ],
   "source": [
    "print(min_test_err_RF, min_test_err_ERT, min_test_err_AB, min_test_err_GBT)"
   ]
  },
  {
   "cell_type": "markdown",
   "metadata": {},
   "source": [
    "# Principal Components Analysis (PCA)"
   ]
  },
  {
   "cell_type": "code",
   "execution_count": 99,
   "metadata": {},
   "outputs": [
    {
     "name": "stdout",
     "output_type": "stream",
     "text": [
      "(213, 9)\n",
      "(213,)\n"
     ]
    }
   ],
   "source": [
    "print(X.shape)\n",
    "print(y.shape)"
   ]
  },
  {
   "cell_type": "code",
   "execution_count": 126,
   "metadata": {},
   "outputs": [
    {
     "data": {
      "text/plain": [
       "(213, 7)"
      ]
     },
     "execution_count": 126,
     "metadata": {},
     "output_type": "execute_result"
    }
   ],
   "source": [
    "from sklearn.decomposition import PCA\n",
    "pca = PCA(n_components = 7)\n",
    "pca.fit(X)\n",
    "pca_x = pca.transform(X)\n",
    "pca_x.shape"
   ]
  },
  {
   "cell_type": "markdown",
   "metadata": {},
   "source": [
    "Используем классификатор Gradient Boosted Trees с 30 деревьями"
   ]
  },
  {
   "cell_type": "code",
   "execution_count": 127,
   "metadata": {},
   "outputs": [
    {
     "name": "stdout",
     "output_type": "stream",
     "text": [
      "0.0 0.30985915493\n"
     ]
    }
   ],
   "source": [
    "from sklearn.ensemble import GradientBoostingClassifier\n",
    "\n",
    "GBT = GradientBoostingClassifier(n_estimators=15)\n",
    "GBT.fit(X_train, y_train)\n",
    "    \n",
    "y_train_pred = GBT.predict(X_train)\n",
    "y_test_pred = GBT.predict(X_test)\n",
    "     \n",
    "print(np.mean(y_train != y_train_pred), np.mean(y_test != y_test_pred))"
   ]
  },
  {
   "cell_type": "markdown",
   "metadata": {},
   "source": [
    "Исследуем зависимость ошибки в выборках от количества главных компонент. Зададим несколько значений"
   ]
  },
  {
   "cell_type": "code",
   "execution_count": 128,
   "metadata": {
    "collapsed": true
   },
   "outputs": [],
   "source": [
    "pca_count_array = np.arange(2,10,1)"
   ]
  },
  {
   "cell_type": "code",
   "execution_count": 129,
   "metadata": {},
   "outputs": [],
   "source": [
    "test_error_GBT = []\n",
    "train_error_GBT = []\n",
    "\n",
    "for pca_count in pca_count_array:\n",
    "    pca = PCA(n_components = pca_count)\n",
    "    pca.fit(X)\n",
    "    X_pca = pca.transform(X)\n",
    "    \n",
    "    X_train, X_test, y_train, y_test = train_test_split(X_pca, y_tr, test_size = 0.33, random_state = 42)\n",
    "    \n",
    "    GBT = GradientBoostingClassifier(n_estimators=30)\n",
    "    GBT.fit(X_train, y_train)\n",
    "    \n",
    "    y_train_pred = GBT.predict(X_train)\n",
    "    y_test_pred = GBT.predict(X_test)\n",
    "    \n",
    "    train_error_GBT.append(np.mean(y_train != y_train_pred))\n",
    "    test_error_GBT.append(np.mean(y_test != y_test_pred))"
   ]
  },
  {
   "cell_type": "code",
   "execution_count": 130,
   "metadata": {},
   "outputs": [
    {
     "name": "stdout",
     "output_type": "stream",
     "text": [
      "0.0 0.323943661972\n"
     ]
    }
   ],
   "source": [
    "print(np.mean(y_train != y_train_pred), np.mean(y_test != y_test_pred))"
   ]
  },
  {
   "cell_type": "code",
   "execution_count": 131,
   "metadata": {},
   "outputs": [
    {
     "data": {
      "image/png": "iVBORw0KGgoAAAANSUhEUgAAAYsAAAEWCAYAAACXGLsWAAAABHNCSVQICAgIfAhkiAAAAAlwSFlz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\n",
      "text/plain": [
       "<matplotlib.figure.Figure at 0x2c267f32780>"
      ]
     },
     "metadata": {},
     "output_type": "display_data"
    }
   ],
   "source": [
    "plt.plot(pca_count_array, train_error_GBT, 'g-o', label = 'train')\n",
    "plt.plot(pca_count_array, test_error_GBT, 'b-o', label = 'test')\n",
    "\n",
    "plt.title('error vs count of components')\n",
    "plt.xlabel('count of components')\n",
    "plt.ylabel('error')\n",
    "plt.legend()\n",
    "pass"
   ]
  },
  {
   "cell_type": "code",
   "execution_count": null,
   "metadata": {
    "collapsed": true
   },
   "outputs": [],
   "source": []
  },
  {
   "cell_type": "code",
   "execution_count": 132,
   "metadata": {},
   "outputs": [
    {
     "name": "stdout",
     "output_type": "stream",
     "text": [
      "0.0 0.30985915493\n"
     ]
    }
   ],
   "source": [
    "min_train_error = np.min(train_error_GBT)\n",
    "min_test_error = np.min(test_error_GBT)\n",
    "print(min_train_error, min_test_error)"
   ]
  },
  {
   "cell_type": "markdown",
   "metadata": {},
   "source": [
    "Найдем число компонент, при котором ошибка на тестовой выборке минимальна"
   ]
  },
  {
   "cell_type": "code",
   "execution_count": 133,
   "metadata": {},
   "outputs": [
    {
     "name": "stdout",
     "output_type": "stream",
     "text": [
      "[4]\n"
     ]
    }
   ],
   "source": [
    "print(pca_count_array[test_error_GBT == min_test_error])"
   ]
  },
  {
   "cell_type": "code",
   "execution_count": null,
   "metadata": {
    "collapsed": true
   },
   "outputs": [],
   "source": []
  }
 ],
 "metadata": {
  "kernelspec": {
   "display_name": "Python 3",
   "language": "python",
   "name": "python3"
  },
  "language_info": {
   "codemirror_mode": {
    "name": "ipython",
    "version": 3
   },
   "file_extension": ".py",
   "mimetype": "text/x-python",
   "name": "python",
   "nbconvert_exporter": "python",
   "pygments_lexer": "ipython3",
   "version": "3.6.3"
  }
 },
 "nbformat": 4,
 "nbformat_minor": 2
}
